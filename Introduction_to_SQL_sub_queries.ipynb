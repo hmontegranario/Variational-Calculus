{
  "nbformat": 4,
  "nbformat_minor": 0,
  "metadata": {
    "colab": {
      "name": "Introduction to SQL sub-queries.ipynb",
      "provenance": [],
      "include_colab_link": true
    },
    "kernelspec": {
      "name": "python3",
      "display_name": "Python 3"
    }
  },
  "cells": [
    {
      "cell_type": "markdown",
      "metadata": {
        "id": "view-in-github",
        "colab_type": "text"
      },
      "source": [
        "<a href=\"https://colab.research.google.com/github/hmontegranario/Variational-Calculus/blob/main/Introduction_to_SQL_sub_queries.ipynb\" target=\"_parent\"><img src=\"https://colab.research.google.com/assets/colab-badge.svg\" alt=\"Open In Colab\"/></a>"
      ]
    },
    {
      "cell_type": "markdown",
      "metadata": {
        "id": "pAynvpmlvdZt"
      },
      "source": [
        "### Introduction to SQL Sub-Queries\n",
        "\n",
        "This notebook explore the basics of the use of sub-queries with SQL"
      ]
    },
    {
      "cell_type": "code",
      "metadata": {
        "id": "_xkGEn95uh6W",
        "colab": {
          "base_uri": "https://localhost:8080/"
        },
        "outputId": "44d6976f-79ed-4a5b-a358-92f38704cdf3"
      },
      "source": [
        "# CREATING THE TABLE\n",
        "import sqlite3\n",
        "\n",
        "conn = sqlite3.connect('test.db')\n",
        "print(\"Opened database successfully\");\n",
        "\n",
        "conn.execute('''\n",
        "CREATE TABLE IF NOT EXISTS team_data(team text,\n",
        "                      country text,\n",
        "                      season integer,\n",
        "                      total_goals integer);''')\n",
        "\n",
        "conn.commit()\n",
        "\n",
        "print(\"Table created successfully\");\n",
        "\n",
        "#conn.close()"
      ],
      "execution_count": 8,
      "outputs": [
        {
          "output_type": "stream",
          "name": "stdout",
          "text": [
            "Opened database successfully\n",
            "Table created successfully\n"
          ]
        }
      ]
    },
    {
      "cell_type": "code",
      "metadata": {
        "id": "r9SeHPpgu73Z"
      },
      "source": [
        "# INSERTING VALUES\n",
        "\n",
        "conn.execute(\"INSERT INTO team_data VALUES('Real Madrid', 'Spain', 2019, 53);\")\n",
        "conn.execute(\"INSERT INTO team_data VALUES('Barcelona', 'Spain', 2019, 47);\")\n",
        "conn.execute(\"INSERT INTO team_data VALUES('Arsenal', 'UK', 2019, 52);\")\n",
        "conn.execute(\"INSERT INTO team_data VALUES('Real Madrid', 'Spain', 2018, 49);\")\n",
        "conn.execute(\"INSERT INTO team_data VALUES('Barcelona', 'Spain', 2018, 45);\")\n",
        "conn.execute(\"INSERT INTO team_data VALUES('Arsenal', 'UK', 2018, 50 );\")\n",
        "\n",
        "conn.commit()"
      ],
      "execution_count": 9,
      "outputs": []
    },
    {
      "cell_type": "code",
      "metadata": {
        "id": "L9nIsr9Jwuds",
        "colab": {
          "base_uri": "https://localhost:8080/"
        },
        "outputId": "ece0ef89-9cab-4bc5-b5a4-81817de17953"
      },
      "source": [
        "# Average goal by team\n",
        "\n",
        "conn = sqlite3.connect('test.db')\n",
        "\n",
        "cursor = conn.execute(''' SELECT team,\n",
        "                            AVG(total_goals) AS avg_goals\n",
        "                          FROM team_data\n",
        "                          GROUP BY team;''')\n",
        "\n",
        "for row in cursor:\n",
        "  print(row)\n",
        "#conn.close()"
      ],
      "execution_count": 14,
      "outputs": [
        {
          "output_type": "stream",
          "name": "stdout",
          "text": [
            "('Arsenal', 51.0)\n",
            "('Barcelona', 46.0)\n",
            "('Real Madrid', 51.0)\n"
          ]
        }
      ]
    },
    {
      "cell_type": "code",
      "metadata": {
        "id": "HfJEEubPye8h",
        "colab": {
          "base_uri": "https://localhost:8080/",
          "height": 211
        },
        "outputId": "a8ff75c0-838d-4da8-c0e4-99a7c7140790",
        "collapsed": true
      },
      "source": [
        "# First try to filter the teams with average goals higher than 50\n",
        "# This query will generate an error\n",
        "\n",
        "conn = sqlite3.connect('test.db')\n",
        "\n",
        "cursor = conn.execute(''' SELECT team AS team_name,\n",
        "                            AVG(total_goals) AS avg_goals\n",
        "                          FROM team_data\n",
        "                          WHERE avg_goals > 50\n",
        "                          GROUP BY team;''')\n",
        "\n",
        "for row in cursor:\n",
        "  print(row)\n",
        "conn.close()"
      ],
      "execution_count": 16,
      "outputs": [
        {
          "output_type": "error",
          "ename": "OperationalError",
          "evalue": "misuse of aggregate: AVG()",
          "traceback": [
            "\u001b[0;31m---------------------------------------------------------------------------\u001b[0m",
            "\u001b[0;31mOperationalError\u001b[0m                          Traceback (most recent call last)",
            "\u001b[0;32m<ipython-input-16-ad10f7df3a61>\u001b[0m in \u001b[0;36m<cell line: 6>\u001b[0;34m()\u001b[0m\n\u001b[1;32m      4\u001b[0m \u001b[0mconn\u001b[0m \u001b[0;34m=\u001b[0m \u001b[0msqlite3\u001b[0m\u001b[0;34m.\u001b[0m\u001b[0mconnect\u001b[0m\u001b[0;34m(\u001b[0m\u001b[0;34m'test.db'\u001b[0m\u001b[0;34m)\u001b[0m\u001b[0;34m\u001b[0m\u001b[0;34m\u001b[0m\u001b[0m\n\u001b[1;32m      5\u001b[0m \u001b[0;34m\u001b[0m\u001b[0m\n\u001b[0;32m----> 6\u001b[0;31m cursor = conn.execute(''' SELECT team AS team_name,\n\u001b[0m\u001b[1;32m      7\u001b[0m                             \u001b[0mAVG\u001b[0m\u001b[0;34m(\u001b[0m\u001b[0mtotal_goals\u001b[0m\u001b[0;34m)\u001b[0m \u001b[0mAS\u001b[0m \u001b[0mavg_goals\u001b[0m\u001b[0;34m\u001b[0m\u001b[0;34m\u001b[0m\u001b[0m\n\u001b[1;32m      8\u001b[0m                           \u001b[0mFROM\u001b[0m \u001b[0mteam_data\u001b[0m\u001b[0;34m\u001b[0m\u001b[0;34m\u001b[0m\u001b[0m\n",
            "\u001b[0;31mOperationalError\u001b[0m: misuse of aggregate: AVG()"
          ]
        }
      ]
    },
    {
      "cell_type": "code",
      "metadata": {
        "id": "NlJ3wc21zU3l",
        "colab": {
          "base_uri": "https://localhost:8080/"
        },
        "outputId": "4525e9a3-2b4c-423e-de9b-3e0a1950cdbe"
      },
      "source": [
        "# Now, the correct query, using the appropriate sub-query\n",
        "\n",
        "conn = sqlite3.connect('test.db')\n",
        "\n",
        "cursor = conn.execute(''' SELECT team_name, avg_goals\n",
        "                          FROM (\n",
        "\n",
        "                          -- Here we make our sub-query:\n",
        "                            SELECT team AS team_name,\n",
        "                            AVG(total_goals) AS avg_goals\n",
        "                            FROM team_data\n",
        "                            GROUP BY team) tp\n",
        "                          -- End of the sub-query\n",
        "\n",
        "                          WHERE avg_goals > 50;''')\n",
        "\n",
        "for row in cursor:\n",
        "  print(row)\n",
        "conn.close()"
      ],
      "execution_count": 15,
      "outputs": [
        {
          "output_type": "stream",
          "name": "stdout",
          "text": [
            "('Arsenal', 51.0)\n",
            "('Real Madrid', 51.0)\n"
          ]
        }
      ]
    },
    {
      "cell_type": "markdown",
      "metadata": {
        "id": "hYzqFZIn0BpL"
      },
      "source": [
        "That's it, this code should be used as a complement to the article  "
      ]
    }
  ]
}