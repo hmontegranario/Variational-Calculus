{
  "nbformat": 4,
  "nbformat_minor": 0,
  "metadata": {
    "colab": {
      "provenance": [],
      "authorship_tag": "ABX9TyOpOS2lWapU8BMAgbgaEAjE",
      "include_colab_link": true
    },
    "kernelspec": {
      "name": "python3",
      "display_name": "Python 3"
    },
    "language_info": {
      "name": "python"
    }
  },
  "cells": [
    {
      "cell_type": "markdown",
      "metadata": {
        "id": "view-in-github",
        "colab_type": "text"
      },
      "source": [
        "<a href=\"https://colab.research.google.com/github/hmontegranario/Variational-Calculus/blob/main/HANDLEFiles.ipynb\" target=\"_parent\"><img src=\"https://colab.research.google.com/assets/colab-badge.svg\" alt=\"Open In Colab\"/></a>"
      ]
    },
    {
      "cell_type": "code",
      "source": [
        "from google.colab import drive\n",
        "drive.flush_and_unmount()"
      ],
      "metadata": {
        "id": "_VEy1JRM2kuz"
      },
      "execution_count": null,
      "outputs": []
    },
    {
      "cell_type": "code",
      "source": [
        "from google.colab import drive\n",
        "drive.mount('/content/drive')"
      ],
      "metadata": {
        "colab": {
          "base_uri": "https://localhost:8080/"
        },
        "id": "ox-sAFq22r7V",
        "outputId": "b99f1639-9ffa-45ad-f986-cd9e77291da2"
      },
      "execution_count": null,
      "outputs": [
        {
          "output_type": "stream",
          "name": "stdout",
          "text": [
            "Mounted at /content/drive\n"
          ]
        }
      ]
    },
    {
      "cell_type": "code",
      "source": [
        "%cd 'datafiles' #cuando monte mi Drive"
      ],
      "metadata": {
        "colab": {
          "base_uri": "https://localhost:8080/"
        },
        "id": "Df1KaDGY7v7_",
        "outputId": "d2d1f7b6-9fdd-47fd-f5fd-47c0591bdfe2"
      },
      "execution_count": null,
      "outputs": [
        {
          "output_type": "stream",
          "name": "stdout",
          "text": [
            "/content/drive/MyDrive/datafiles\n"
          ]
        }
      ]
    },
    {
      "cell_type": "code",
      "source": [
        "with open('hola.txt', 'w') as f:\n",
        "    f.write('Hello, World!')"
      ],
      "metadata": {
        "id": "glQs2QD7OftO"
      },
      "execution_count": null,
      "outputs": []
    },
    {
      "cell_type": "code",
      "source": [
        "%pwd\n",
        "\n",
        "import numpy as np\n",
        "#%cd 'sample_data'\n",
        "df = np.loadtxt('data3.txt')\n",
        "df"
      ],
      "metadata": {
        "id": "y8k7xZ4yT6KO"
      },
      "execution_count": null,
      "outputs": []
    },
    {
      "cell_type": "markdown",
      "source": [
        "$$f(x)=\\begin{cases}x^2; x<0 \\\\\n",
        "x+1; x>0\n",
        "\\end{cases} $$"
      ],
      "metadata": {
        "id": "V_ybpia6CpZY"
      }
    },
    {
      "cell_type": "code",
      "source": [
        "%cd 'sample_data'"
      ],
      "metadata": {
        "colab": {
          "base_uri": "https://localhost:8080/"
        },
        "id": "HfLc5CVSEAdX",
        "outputId": "eece670c-82af-4a16-d2c8-ac8b125cb18b"
      },
      "execution_count": null,
      "outputs": [
        {
          "output_type": "stream",
          "name": "stdout",
          "text": [
            "/content/sample_data\n"
          ]
        }
      ]
    },
    {
      "cell_type": "code",
      "source": [],
      "metadata": {
        "id": "FRfa9GZqIVLK"
      },
      "execution_count": null,
      "outputs": []
    }
  ]
}